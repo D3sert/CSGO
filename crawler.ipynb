{
 "metadata": {
  "language_info": {
   "codemirror_mode": {
    "name": "ipython",
    "version": 3
   },
   "file_extension": ".py",
   "mimetype": "text/x-python",
   "name": "python",
   "nbconvert_exporter": "python",
   "pygments_lexer": "ipython3",
   "version": "3.9.4-final"
  },
  "orig_nbformat": 2,
  "kernelspec": {
   "name": "python394jvsc74a57bd02fb26068bd0d1e0f8e0cb0471b51822d32bcef174b6ed9ec0f79e5a512585ab8",
   "display_name": "Python 3.9.4 64-bit"
  },
  "metadata": {
   "interpreter": {
    "hash": "2fb26068bd0d1e0f8e0cb0471b51822d32bcef174b6ed9ec0f79e5a512585ab8"
   }
  }
 },
 "nbformat": 4,
 "nbformat_minor": 2,
 "cells": [
  {
   "cell_type": "code",
   "execution_count": null,
   "metadata": {},
   "outputs": [],
   "source": [
    "from selenium import webdriver\n",
    "from bs4 import BeautifulSoup\n",
    "import pandas as pd\n",
    "import time\n",
    "import requests\n",
    "import random\n",
    "import json\n",
    "driver = webdriver.Chrome(executable_path='C:\\chromedriver\\chromedriver.exe')"
   ]
  },
  {
   "cell_type": "code",
   "execution_count": null,
   "metadata": {},
   "outputs": [],
   "source": [
    "##HELPERFUNCTIONS\n",
    "\n",
    "def get_matchLinks(page):\n",
    "    matchesLinks = []\n",
    "    ## https://www.hltv.org/results?offset=0\n",
    "    driver.get('https://www.hltv.org/results?offset='+ str(page) +'&stars=1')\n",
    "    content = driver.page_source\n",
    "    soup = BeautifulSoup(content)\n",
    "\n",
    "    ## FIND MATCHES\n",
    "    for div in soup.findAll('div', attrs={'class': 'results'}):\n",
    "        for a in div.findAll('a', attrs={'class': 'a-reset'}):\n",
    "            link = a['href']\n",
    "            if (link[:8] == \"/matches\"):\n",
    "                matchesLinks.append(link)\n",
    "    return matchesLinks\n",
    "\n",
    "def get_page_data(link):\n",
    "    url = 'https://www.hltv.org/' + str(link)\n",
    "    driver.get(url)\n",
    "    content = driver.page_source\n",
    "    soup = BeautifulSoup(content)    \n",
    "    return soup\n",
    "\n",
    "def get_game_links(soup):\n",
    "    statlinks = []\n",
    "    for div in soup.findAll('div', attrs={'class': 'results-center-stats'}):\n",
    "        for a in div.findAll('a'):\n",
    "            statlinks.append(a['href'])\n",
    "    return statlinks\n",
    "\n",
    "def get_game_stats(link):\n",
    "\n",
    "    page = get_page_data(link)\n",
    "    game_stats = {}\n",
    "\n",
    "    scoreboard = page.findAll('table', {'class':'stats-table'})\n",
    "    team1 = pd.read_html(str(scoreboard))[0].values.tolist()\n",
    "    team2 = pd.read_html(str(scoreboard))[1].values.tolist()\n",
    "    scoreboard = {}\n",
    "    scoreboard['Team 1'] = team1\n",
    "    scoreboard['Team 2'] = team2\n",
    "    game_stats['Scoreboard'] = scoreboard\n",
    "\n",
    "    misc_stats = page.findAll('div', attrs={'class': 'right'})\n",
    "    game_stats['Starting side'] = misc_stats[0].contents[4]['class'][0][:-6]\n",
    "    game_stats['Rounds'] = misc_stats[0].text\n",
    "    game_stats['Team rating'] = misc_stats[1].text\n",
    "    game_stats['Entries'] = misc_stats[2].text\n",
    "    game_stats['Clutches'] = misc_stats[3].text\n",
    "\n",
    "    return game_stats"
   ]
  },
  {
   "cell_type": "code",
   "execution_count": null,
   "metadata": {},
   "outputs": [],
   "source": [
    "##GET SOUP STORE SOUP\n",
    "matchesLinks = get_matchLinks(0)\n",
    "soup = get_page_data(matchesLinks[0])"
   ]
  },
  {
   "cell_type": "code",
   "execution_count": null,
   "metadata": {},
   "outputs": [],
   "source": [
    "##BASIC INFO\n",
    "\n",
    "##GET DATE from https://www.hltv.org/matches/2347834***\n",
    "names = [\"Date\",\"Tournament\",\"Team1\",\"Result1\",\"Team2\",\"Result2\",\"Map\",\"MapID\",\"StatLinks\",\"Players\"]\n",
    "data = []\n",
    "for div in soup.findAll('div', attrs={'class': 'match-page'}):\n",
    "    pageDate = div.find('div', attrs={'class': 'date'})\n",
    "    pageTournament = div.find('div', attrs={'class': 'event text-ellipsis'})\n",
    "    data.append(pageDate.text)\n",
    "    data.append(pageTournament.text)\n",
    "\n",
    "##GET FINALRESULT1 from https://www.hltv.org/matches/2347834***\n",
    "for div in soup.findAll('div', attrs={'class': 'team1-gradient'}):\n",
    "    pageTeam1 = div.find('div', attrs={'class': 'teamName'})\n",
    "    pageResult1 = div.find('div', attrs={'class': ['won', 'lost', 'tie']})\n",
    "    data.append(pageTeam1.text)\n",
    "    data.append(pageResult1.text)\n",
    "\n",
    "##GET FINALRESULT2 from https://www.hltv.org/matches/2347834***\n",
    "for div in soup.findAll('div', attrs={'class': 'team2-gradient'}):\n",
    "    pageTeam2 = div.find('div', attrs={'class': 'teamName'})\n",
    "    pageResult2 = div.find('div', attrs={'class': ['won', 'lost', 'tie']})\n",
    "    data.append(pageTeam2.text)\n",
    "    data.append(pageResult2.text)\n",
    "\n",
    "maps = []\n",
    "mapsID = []\n",
    "players = []\n",
    "\n",
    "##GET MAPS AND MAPSID from https://www.hltv.org/matches/2347834***\n",
    "for div in soup.findAll('div', attrs={'class': 'stats-menu-link'}):\n",
    "    map1 = div.findAll('div', attrs= {'class': 'dynamic-map-name-full'})\n",
    "    for div in map1:\n",
    "        maps.append(div.text)\n",
    "        mapsID.append(div['id'])\n",
    "data.append(maps)\n",
    "data.append(mapsID)\n",
    "\n",
    "##GET DETAILED STATS LINKS\n",
    "data.append(get_game_links(soup))\n",
    "\n",
    "##GET PLAYER INFO\n",
    "for div in soup.findAll('div', attrs={'class': 'lineups'}):\n",
    "    for table in div.findAll('td',attrs={'class': 'player player-image'}):\n",
    "        for a in table.findAll('a'):\n",
    "            players.append(a['href'])\n",
    "data.append(players)\n",
    "    \n",
    "result = [[names],[data]]\n",
    "for i in range(0,len(names)):\n",
    "    print(names[i] + \" : \" + str(data[i]))"
   ]
  },
  {
   "cell_type": "code",
   "execution_count": null,
   "metadata": {},
   "outputs": [],
   "source": [
    "links = data[8]\n",
    "# Match Data\n",
    "match = {}\n",
    "count = 0\n",
    "for link in links:\n",
    "    count += 1\n",
    "    scoreboard = get_game_stats(link)\n",
    "    match['Game ' + str(count)] = scoreboard\n",
    "\n",
    "    sleeptime = random.uniform(1, 2) # Stealth mode = engaged\n",
    "    time.sleep(sleeptime)"
   ]
  },
  {
   "cell_type": "code",
   "execution_count": null,
   "metadata": {},
   "outputs": [],
   "source": [
    "j = json.dumps(match)\n",
    "with open('test.json', 'w') as f:\n",
    "    f.write(j)\n",
    "    f.close()"
   ]
  },
  {
   "cell_type": "code",
   "execution_count": null,
   "metadata": {},
   "outputs": [],
   "source": [
    "matchdata = json.load(open('test.json'))"
   ]
  }
 ]
}