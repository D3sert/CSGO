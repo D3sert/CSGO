{
 "metadata": {
  "language_info": {
   "codemirror_mode": {
    "name": "ipython",
    "version": 3
   },
   "file_extension": ".py",
   "mimetype": "text/x-python",
   "name": "python",
   "nbconvert_exporter": "python",
   "pygments_lexer": "ipython3",
   "version": "3.8.5-final"
  },
  "orig_nbformat": 2,
  "kernelspec": {
   "name": "python385jvsc74a57bd0812300918a79f3a093ad4f70c99c27e1a9e367741fa0491771d6b021d3e0db15",
   "display_name": "Python 3.8.5 64-bit (conda)"
  }
 },
 "nbformat": 4,
 "nbformat_minor": 2,
 "cells": [
  {
   "cell_type": "code",
   "execution_count": 2,
   "metadata": {},
   "outputs": [],
   "source": [
    "import pandas as pd"
   ]
  },
  {
   "cell_type": "code",
   "execution_count": 28,
   "metadata": {
    "tags": []
   },
   "outputs": [
    {
     "output_type": "stream",
     "name": "stderr",
     "text": [
      "C:\\Users\\D3sert\\anaconda3\\lib\\site-packages\\pandas\\core\\indexing.py:670: SettingWithCopyWarning: \nA value is trying to be set on a copy of a slice from a DataFrame\n\nSee the caveats in the documentation: https://pandas.pydata.org/pandas-docs/stable/user_guide/indexing.html#returning-a-view-versus-a-copy\n  iloc._setitem_with_indexer(indexer, value)\n"
     ]
    },
    {
     "output_type": "execute_result",
     "data": {
      "text/plain": [
       "   Player   K (hs)  A (f)   D   KAST  K-D Diff    ADR  FK Diff  Rating  \\\n",
       "0   sh1ro   28 (6)  5 (2)  13  83.3%        15  115.3        0    1.73   \n",
       "1  Hobbit  26 (19)  2 (0)  16  75.0%        10  108.9        2    1.54   \n",
       "2   Ax1Le  17 (11)  2 (1)  10  70.8%         7   74.3       -2    1.14   \n",
       "3  interz   11 (3)  5 (2)   9  83.3%         2   56.2        1    1.01   \n",
       "4  nafany   14 (2)  4 (0)  16  70.8%        -2   63.1        1    0.97   \n",
       "\n",
       "     Team  ...                          Tournament                Date  \\\n",
       "0  Gambit  ...  BLAST Premier Spring Showdown 2021  14th of April 2021   \n",
       "1  Gambit  ...  BLAST Premier Spring Showdown 2021  14th of April 2021   \n",
       "2  Gambit  ...  BLAST Premier Spring Showdown 2021  14th of April 2021   \n",
       "3  Gambit  ...  BLAST Premier Spring Showdown 2021  14th of April 2021   \n",
       "4  Gambit  ...  BLAST Premier Spring Showdown 2021  14th of April 2021   \n",
       "\n",
       "    Team1 Team2 ResultTeam1 ResultTeam2        Bets    MatchID Odds_Team1  \\\n",
       "0  Gambit  NASR           2           0  1.00/21.00  2347744.0              \n",
       "1  Gambit  NASR           2           0  1.00/21.00  2347744.0              \n",
       "2  Gambit  NASR           2           0  1.00/21.00  2347744.0              \n",
       "3  Gambit  NASR           2           0  1.00/21.00  2347744.0              \n",
       "4  Gambit  NASR           2           0  1.00/21.00  2347744.0              \n",
       "\n",
       "  Odds_Team2  \n",
       "0             \n",
       "1             \n",
       "2             \n",
       "3             \n",
       "4             \n",
       "\n",
       "[5 rows x 27 columns]"
      ],
      "text/html": "<div>\n<style scoped>\n    .dataframe tbody tr th:only-of-type {\n        vertical-align: middle;\n    }\n\n    .dataframe tbody tr th {\n        vertical-align: top;\n    }\n\n    .dataframe thead th {\n        text-align: right;\n    }\n</style>\n<table border=\"1\" class=\"dataframe\">\n  <thead>\n    <tr style=\"text-align: right;\">\n      <th></th>\n      <th>Player</th>\n      <th>K (hs)</th>\n      <th>A (f)</th>\n      <th>D</th>\n      <th>KAST</th>\n      <th>K-D Diff</th>\n      <th>ADR</th>\n      <th>FK Diff</th>\n      <th>Rating</th>\n      <th>Team</th>\n      <th>...</th>\n      <th>Tournament</th>\n      <th>Date</th>\n      <th>Team1</th>\n      <th>Team2</th>\n      <th>ResultTeam1</th>\n      <th>ResultTeam2</th>\n      <th>Bets</th>\n      <th>MatchID</th>\n      <th>Odds_Team1</th>\n      <th>Odds_Team2</th>\n    </tr>\n  </thead>\n  <tbody>\n    <tr>\n      <th>0</th>\n      <td>sh1ro</td>\n      <td>28 (6)</td>\n      <td>5 (2)</td>\n      <td>13</td>\n      <td>83.3%</td>\n      <td>15</td>\n      <td>115.3</td>\n      <td>0</td>\n      <td>1.73</td>\n      <td>Gambit</td>\n      <td>...</td>\n      <td>BLAST Premier Spring Showdown 2021</td>\n      <td>14th of April 2021</td>\n      <td>Gambit</td>\n      <td>NASR</td>\n      <td>2</td>\n      <td>0</td>\n      <td>1.00/21.00</td>\n      <td>2347744.0</td>\n      <td></td>\n      <td></td>\n    </tr>\n    <tr>\n      <th>1</th>\n      <td>Hobbit</td>\n      <td>26 (19)</td>\n      <td>2 (0)</td>\n      <td>16</td>\n      <td>75.0%</td>\n      <td>10</td>\n      <td>108.9</td>\n      <td>2</td>\n      <td>1.54</td>\n      <td>Gambit</td>\n      <td>...</td>\n      <td>BLAST Premier Spring Showdown 2021</td>\n      <td>14th of April 2021</td>\n      <td>Gambit</td>\n      <td>NASR</td>\n      <td>2</td>\n      <td>0</td>\n      <td>1.00/21.00</td>\n      <td>2347744.0</td>\n      <td></td>\n      <td></td>\n    </tr>\n    <tr>\n      <th>2</th>\n      <td>Ax1Le</td>\n      <td>17 (11)</td>\n      <td>2 (1)</td>\n      <td>10</td>\n      <td>70.8%</td>\n      <td>7</td>\n      <td>74.3</td>\n      <td>-2</td>\n      <td>1.14</td>\n      <td>Gambit</td>\n      <td>...</td>\n      <td>BLAST Premier Spring Showdown 2021</td>\n      <td>14th of April 2021</td>\n      <td>Gambit</td>\n      <td>NASR</td>\n      <td>2</td>\n      <td>0</td>\n      <td>1.00/21.00</td>\n      <td>2347744.0</td>\n      <td></td>\n      <td></td>\n    </tr>\n    <tr>\n      <th>3</th>\n      <td>interz</td>\n      <td>11 (3)</td>\n      <td>5 (2)</td>\n      <td>9</td>\n      <td>83.3%</td>\n      <td>2</td>\n      <td>56.2</td>\n      <td>1</td>\n      <td>1.01</td>\n      <td>Gambit</td>\n      <td>...</td>\n      <td>BLAST Premier Spring Showdown 2021</td>\n      <td>14th of April 2021</td>\n      <td>Gambit</td>\n      <td>NASR</td>\n      <td>2</td>\n      <td>0</td>\n      <td>1.00/21.00</td>\n      <td>2347744.0</td>\n      <td></td>\n      <td></td>\n    </tr>\n    <tr>\n      <th>4</th>\n      <td>nafany</td>\n      <td>14 (2)</td>\n      <td>4 (0)</td>\n      <td>16</td>\n      <td>70.8%</td>\n      <td>-2</td>\n      <td>63.1</td>\n      <td>1</td>\n      <td>0.97</td>\n      <td>Gambit</td>\n      <td>...</td>\n      <td>BLAST Premier Spring Showdown 2021</td>\n      <td>14th of April 2021</td>\n      <td>Gambit</td>\n      <td>NASR</td>\n      <td>2</td>\n      <td>0</td>\n      <td>1.00/21.00</td>\n      <td>2347744.0</td>\n      <td></td>\n      <td></td>\n    </tr>\n  </tbody>\n</table>\n<p>5 rows × 27 columns</p>\n</div>"
     },
     "metadata": {},
     "execution_count": 28
    }
   ],
   "source": [
    "#df = pd.read_csv(\"CSGO_Data_bets.csv\")\n",
    "\n",
    "for i in range(0,len(df)):\n",
    "    try:\n",
    "        df['Odds_Team1'].iloc[i] = int(df['Bets'].iloc[i].split(\"/\")[0])\n",
    "        df['Odds_Team2'].iloc[i] = int(df['Bets'].iloc[i].split(\"/\")[1])\n",
    "    except:\n",
    "        pass\n",
    "df.head()\n",
    "#df[\"Bets\"].iloc[1].split(\"/\")[1]\n",
    "\n"
   ]
  }
 ]
}